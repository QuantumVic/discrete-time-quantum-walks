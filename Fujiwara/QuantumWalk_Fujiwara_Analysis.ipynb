{
 "cells": [
  {
   "cell_type": "code",
   "execution_count": 1,
   "metadata": {
    "scrolled": false
   },
   "outputs": [
    {
     "data": {
      "text/plain": [
       "{'qiskit-terra': '0.11.0',\n",
       " 'qiskit-aer': '0.3.4',\n",
       " 'qiskit-ignis': '0.2.0',\n",
       " 'qiskit-ibmq-provider': '0.4.4',\n",
       " 'qiskit-aqua': '0.6.1',\n",
       " 'qiskit': '0.14.0'}"
      ]
     },
     "execution_count": 1,
     "metadata": {},
     "output_type": "execute_result"
    }
   ],
   "source": [
    "from qiskit import *\n",
    "import numpy as np\n",
    "import matplotlib as mpl\n",
    "from qiskit.tools.visualization import plot_histogram, plot_state_city\n",
    "from qiskit.tools.monitor import job_monitor\n",
    "\n",
    "state_sim = Aer.get_backend('statevector_simulator')\n",
    "qasm_sim = Aer.get_backend('qasm_simulator')\n",
    "unitary_sim = Aer.get_backend('unitary_simulator')\n",
    "\n",
    "qiskit.__qiskit_version__   #developed in q0.14.0, q-terra0.11.0"
   ]
  },
  {
   "cell_type": "code",
   "execution_count": 2,
   "metadata": {},
   "outputs": [],
   "source": [
    "# Definition of c_Increment, c_Decrement gates\n",
    "\n",
    "def increment(qc,qr):\n",
    "    \"\"\"controlled-increment gate, cf. PhysRevA.72.032329\"\"\"\n",
    "    for i in range(num_qubits - 1):\n",
    "        qc.mct(qr[0:num_qubits - 1 - i], qr[num_qubits - 1 - i] , qr_aux)\n",
    "        \n",
    "def decrement(qc,qr):\n",
    "    \"\"\"controlled-decrement gate, cf. PhysRevA.72.032329\"\"\"\n",
    "    for i in range(num_qubits - 1):\n",
    "        qc.mct(qr[0:i+1], qr[i+1], qr_aux)\n",
    "        \n",
    "# Definition of QW cycle\n",
    "\n",
    "def quantum_walk(qc,qr):\n",
    "    \"\"\"implement DTQW on a previously defined circuit and register cf. PhysRevA.72.032329\"\"\"\n",
    "    # coin operator\n",
    "    qc.h(qr[0])\n",
    "    \n",
    "    # conditional shift\n",
    "    increment(qc,qr)\n",
    "    qc.x(qr[0])\n",
    "    decrement(qc,qr)\n",
    "    qc.x(qr[0])\n",
    "        \n",
    "def get_tot_gates(qc):\n",
    "    \"\"\"get the total number of basic gates of a circuit\"\"\"\n",
    "    tot_gates = 0\n",
    "\n",
    "    for key in qc.decompose().count_ops():\n",
    "        tot_gates = tot_gates + qc.decompose().count_ops()[key]\n",
    "    \n",
    "    return tot_gates\n",
    "\n",
    "def get_cx_gates(qc):\n",
    "    \"\"\"get the total number of cx gates of a circuit\"\"\"\n",
    "    cx_gates = qc.decompose().count_ops()['cx']\n",
    "    \n",
    "    return cx_gates"
   ]
  },
  {
   "cell_type": "code",
   "execution_count": 3,
   "metadata": {
    "scrolled": true
   },
   "outputs": [],
   "source": [
    "# Analysis of gate number\n",
    "\n",
    "x = []  # number of qubits\n",
    "y = []  # number of gates of one QW step\n",
    "\n",
    "for q in range(4,30):\n",
    "    # Total number of qubits (nodes + coin)\n",
    "    num_qubits = q\n",
    "    \n",
    "    # Define qRegister and qCircuit\n",
    "    qr = QuantumRegister(num_qubits, 'qr')\n",
    "    cr = ClassicalRegister(num_qubits - 1, 'cr')\n",
    "\n",
    "    # We need (num_control - 2) aux qubits for mct\n",
    "    if num_qubits > 3:\n",
    "        qr_aux = QuantumRegister(num_qubits - 3, 'aux')\n",
    "        qc = QuantumCircuit(qr,qr_aux,cr)\n",
    "    else:\n",
    "        qr_aux = None\n",
    "        qc = QuantumCircuit(qr,cr)\n",
    "\n",
    "    # Running the QW\n",
    "\n",
    "    quantum_walk(qc,qr)\n",
    "    \n",
    "    x.append(q)\n",
    "    y.append(get_cx_gates(qc))"
   ]
  },
  {
   "cell_type": "code",
   "execution_count": 4,
   "metadata": {},
   "outputs": [
    {
     "name": "stdout",
     "output_type": "stream",
     "text": [
      "[4, 5, 6, 7, 8, 9, 10, 11, 12, 13, 14, 15, 16, 17, 18, 19, 20, 21, 22, 23, 24, 25, 26, 27, 28, 29] [38, 74, 122, 182, 254, 338, 434, 542, 662, 794, 938, 1094, 1262, 1442, 1634, 1838, 2054, 2282, 2522, 2774, 3038, 3314, 3602, 3902, 4214, 4538]\n"
     ]
    },
    {
     "data": {
      "image/png": "[encoded data removed]",
      "text/plain": [
       "<Figure size 432x288 with 1 Axes>"
      ]
     },
     "metadata": {
      "needs_background": "light"
     },
     "output_type": "display_data"
    }
   ],
   "source": [
    "print(x,y)\n",
    "mpl.pyplot.plot(x,y)\n",
    "mpl.pyplot.xlabel('number of qubits')\n",
    "mpl.pyplot.ylabel('number of gates')\n",
    "mpl.pyplot.title('Number of CX gates required for a QW step')\n",
    "mpl.pyplot.grid(True)\n",
    "mpl.pyplot.show()"
   ]
  },
  {
   "cell_type": "code",
   "execution_count": null,
   "metadata": {},
   "outputs": [],
   "source": []
  }
 ],
 "metadata": {
  "kernelspec": {
   "display_name": "Python 3",
   "language": "python",
   "name": "python3"
  },
  "language_info": {
   "codemirror_mode": {
    "name": "ipython",
    "version": 3
   },
   "file_extension": ".py",
   "mimetype": "text/x-python",
   "name": "python",
   "nbconvert_exporter": "python",
   "pygments_lexer": "ipython3",
   "version": "3.7.5"
  }
 },
 "nbformat": 4,
 "nbformat_minor": 2
}
