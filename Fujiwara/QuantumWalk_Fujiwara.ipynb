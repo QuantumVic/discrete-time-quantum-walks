{
 "cells": [
  {
   "cell_type": "code",
   "execution_count": 2,
   "metadata": {
    "scrolled": false
   },
   "outputs": [
    {
     "data": {
      "text/plain": [
       "{'qiskit-terra': '0.11.0',\n",
       " 'qiskit-aer': '0.3.4',\n",
       " 'qiskit-ignis': '0.2.0',\n",
       " 'qiskit-ibmq-provider': '0.4.4',\n",
       " 'qiskit-aqua': '0.6.1',\n",
       " 'qiskit': '0.14.0'}"
      ]
     },
     "execution_count": 2,
     "metadata": {},
     "output_type": "execute_result"
    }
   ],
   "source": [
    "from qiskit import *\n",
    "import numpy as np\n",
    "import matplotlib as mpl\n",
    "from qiskit.tools.visualization import plot_histogram, plot_state_city\n",
    "from qiskit.tools.monitor import job_monitor\n",
    "\n",
    "state_sim = Aer.get_backend('statevector_simulator')\n",
    "qasm_sim = Aer.get_backend('qasm_simulator')\n",
    "unitary_sim = Aer.get_backend('unitary_simulator')\n",
    "\n",
    "qiskit.__qiskit_version__   #developed in q0.14.0, q-terra0.11.0"
   ]
  },
  {
   "cell_type": "code",
   "execution_count": 3,
   "metadata": {},
   "outputs": [],
   "source": [
    "# Definition of c_Increment, c_Decrement gates\n",
    "\n",
    "def increment(qc,qr):\n",
    "    \"\"\"controlled-increment gate, cf. PhysRevA.72.032329\"\"\"\n",
    "    for i in range(num_qubits - 1):\n",
    "        qc.mct(qr[0:num_qubits - 1 - i], qr[num_qubits - 1 - i] , qr_aux)\n",
    "        \n",
    "def decrement(qc,qr):\n",
    "    \"\"\"controlled-decrement gate, cf. PhysRevA.72.032329\"\"\"\n",
    "    for i in range(num_qubits - 1):\n",
    "        qc.mct(qr[0:i+1], qr[i+1], qr_aux)\n",
    "        \n",
    "# Definition of QW cycle\n",
    "\n",
    "def quantum_walk(qc,qr,num_steps):\n",
    "    \"\"\"implement DTQW on a previously defined circuit and register cf. PhysRevA.72.032329\"\"\"\n",
    "    for i in range(num_steps):\n",
    "        qc.h(qr[0])\n",
    "        increment(qc,qr)\n",
    "        qc.x(qr[0])\n",
    "        decrement(qc,qr)\n",
    "        qc.x(qr[0])\n",
    "        \n",
    "def get_tot_gates(qc):\n",
    "    \"\"\"get the total number of basic gates of a circuit\"\"\"\n",
    "    tot_gates = 0\n",
    "\n",
    "    for key in qc.decompose().count_ops():\n",
    "        tot_gates = tot_gates + qc.decompose().count_ops()[key]\n",
    "    \n",
    "    return tot_gates\n",
    "\n",
    "def barrier(qc,qr,qr_aux):\n",
    "    \"\"\"barrier gate over all quantum registers, including aux if it exists\"\"\"\n",
    "    if qr_aux != None:\n",
    "        qc.barrier(qr,qr_aux)\n",
    "    else:\n",
    "        qc.barrier(qr)"
   ]
  },
  {
   "cell_type": "code",
   "execution_count": 6,
   "metadata": {
    "scrolled": true
   },
   "outputs": [
    {
     "data": {
      "text/plain": [
       "<qiskit.circuit.instructionset.InstructionSet at 0x2407e52bbc8>"
      ]
     },
     "execution_count": 6,
     "metadata": {},
     "output_type": "execute_result"
    }
   ],
   "source": [
    "# Total number of qubits (nodes + coin)\n",
    "num_qubits = 6\n",
    "\n",
    "# Define qRegister and qCircuit\n",
    "qr = QuantumRegister(num_qubits, 'qr')\n",
    "cr = ClassicalRegister(num_qubits - 1, 'cr')\n",
    "\n",
    "# We need (num_control - 2) aux qubits for mct\n",
    "if num_qubits > 3:\n",
    "    qr_aux = QuantumRegister(num_qubits - 3, 'aux')\n",
    "    qc = QuantumCircuit(qr,qr_aux,cr)\n",
    "else:\n",
    "    qr_aux = None\n",
    "    qc = QuantumCircuit(qr,cr)\n",
    "\n",
    "\n",
    "# Initialization for symmetric state 1/sqrt(2) [|0> + i|1>] of coin\n",
    "\n",
    "qc.h(qr[0])\n",
    "qc.s(qr[0])\n",
    "\n",
    "barrier(qc,qr,qr_aux)\n",
    "\n",
    "# Initialization for middle state |1000...> of nodes \n",
    "\n",
    "qc.x(qr[num_qubits - 1])\n",
    "\n",
    "barrier(qc,qr,qr_aux)\n",
    "\n",
    "# Running the QW\n",
    "\n",
    "quantum_walk(qc,qr,12)\n",
    "\n",
    "barrier(qc,qr,qr_aux)\n",
    "\n",
    "qc.measure(qr[1:num_qubits],cr)"
   ]
  },
  {
   "cell_type": "code",
   "execution_count": 7,
   "metadata": {},
   "outputs": [
    {
     "data": {
      "image/png": "[encoded data removed]",
      "text/plain": [
       "<Figure size 504x360 with 1 Axes>"
      ]
     },
     "execution_count": 7,
     "metadata": {},
     "output_type": "execute_result"
    }
   ],
   "source": [
    "# Execute the circuit\n",
    "\n",
    "job = execute(qc, backend=qasm_sim)\n",
    "\n",
    "results_dict = job.result().get_counts()\n",
    "\n",
    "# Convert the results to decimal value of cReg and plot\n",
    "\n",
    "results_dec = {}\n",
    "for key, value in results_dict.items():\n",
    "    results_dec[str(int(key,2))] = value\n",
    "    \n",
    "plot_histogram(results_dec)"
   ]
  },
  {
   "cell_type": "code",
   "execution_count": null,
   "metadata": {},
   "outputs": [],
   "source": []
  }
 ],
 "metadata": {
  "kernelspec": {
   "display_name": "Python 3",
   "language": "python",
   "name": "python3"
  },
  "language_info": {
   "codemirror_mode": {
    "name": "ipython",
    "version": 3
   },
   "file_extension": ".py",
   "mimetype": "text/x-python",
   "name": "python",
   "nbconvert_exporter": "python",
   "pygments_lexer": "ipython3",
   "version": "3.7.5"
  }
 },
 "nbformat": 4,
 "nbformat_minor": 2
}
